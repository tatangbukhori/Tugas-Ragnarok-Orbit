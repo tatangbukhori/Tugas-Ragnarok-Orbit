{
 "cells": [
  {
   "cell_type": "markdown",
   "id": "977d7fd9",
   "metadata": {},
   "source": [
    "# Tugas Sore"
   ]
  },
  {
   "cell_type": "markdown",
   "id": "93de9175",
   "metadata": {},
   "source": [
    "## Jawaban No.1"
   ]
  },
  {
   "cell_type": "code",
   "execution_count": 15,
   "id": "eb7a1ac2",
   "metadata": {},
   "outputs": [
    {
     "name": "stdout",
     "output_type": "stream",
     "text": [
      "Masukan bilangan m : 3\n",
      "Masukan bilangan n : 2\n",
      "Hasil  3 : 2 = 1.5\n",
      "False\n"
     ]
    }
   ],
   "source": [
    "m = int(input(\"Masukan bilangan m : \"))\n",
    "n = int(input(\"Masukan bilangan n : \"))\n",
    "\n",
    "if (m > 0):\n",
    "    if ((m % n) == 0):\n",
    "        print(\"Hasil \", m, \":\", n, \"=\", (m//n))\n",
    "        print(True)\n",
    "    else:\n",
    "        print(\"Hasil \", m, \":\", n, \"=\", (m/n))\n",
    "        print(False)\n",
    "else:\n",
    "    print(\"input invalid!\")"
   ]
  },
  {
   "cell_type": "markdown",
   "id": "e2805e07",
   "metadata": {},
   "source": [
    "## Jawaban No.2"
   ]
  },
  {
   "cell_type": "code",
   "execution_count": 13,
   "id": "71448b4f",
   "metadata": {},
   "outputs": [],
   "source": [
    "def Menu():\n",
    "    print(\"========== Menu ==========\")\n",
    "    print(\"1. Sop dan Salad\")\n",
    "    print(\"2. Pasta dengan saus krim\")\n",
    "    print(\"3. Spaghetti dengan saus bolognese\")\n",
    "    print(\"4. Pilihan spesial Chef\")\n",
    "    pesan = input(\"Pilih nomber menu yang akan dipesan : \")\n",
    "    \n",
    "    if (pesan == \"1\"):\n",
    "        print(\"Satu Sop dan Salad akan segera datang!\")\n",
    "    elif(pesan == \"2\"):\n",
    "        print(\"Satu Pasta dengan saus krim akan segera datang!\")\n",
    "    elif(pesan == \"3\"):\n",
    "        print(\"Satu Spaghetti dengan saus bolognese akan segera datang!\")\n",
    "    elif(pesan == \"4\"):\n",
    "        print(\"Satu menu spesial pilihan Chef akan segera datang!\")\n",
    "    else:\n",
    "        print(\"Maaf, itu bukan pilihan nomber menu yang benar\")"
   ]
  },
  {
   "cell_type": "code",
   "execution_count": 14,
   "id": "ba921601",
   "metadata": {},
   "outputs": [
    {
     "name": "stdout",
     "output_type": "stream",
     "text": [
      "========== Menu ==========\n",
      "1. Sop dan Salad\n",
      "2. Pasta dengan saus krim\n",
      "3. Spaghetti dengan saus bolognese\n",
      "4. Pilihan spesial Chef\n",
      "Pilih nomber menu yang akan dipesan : 4\n",
      "Satu menu spesial pilihan Chef akan segera datang!\n"
     ]
    }
   ],
   "source": [
    "Menu()"
   ]
  },
  {
   "cell_type": "markdown",
   "id": "182673cd",
   "metadata": {},
   "source": [
    "## Jawaban No.3"
   ]
  },
  {
   "cell_type": "code",
   "execution_count": 11,
   "id": "e5e53df2",
   "metadata": {},
   "outputs": [],
   "source": [
    "def rand_divis_3():\n",
    "    bilangan = int(input(\"Input Nomber : \"))\n",
    "    \n",
    "    if (bilangan > 0):\n",
    "        if((bilangan % 3) == 0):\n",
    "            print(\"Sisa \", bilangan, \":\", 3, \"=\", (bilangan % 3))\n",
    "            print(True)\n",
    "        else:\n",
    "            print(\"Sisa \", bilangan, \":\", 3, \"=\", (bilangan % 3))\n",
    "            print(False)\n",
    "    else:\n",
    "        print(\"Input invalid!\")"
   ]
  },
  {
   "cell_type": "code",
   "execution_count": 12,
   "id": "63c92831",
   "metadata": {},
   "outputs": [
    {
     "name": "stdout",
     "output_type": "stream",
     "text": [
      "Input Nomber : 5\n",
      "Sisa  5 : 3 = 2\n",
      "False\n"
     ]
    }
   ],
   "source": [
    "rand_divis_3()"
   ]
  },
  {
   "cell_type": "markdown",
   "id": "12013399",
   "metadata": {},
   "source": [
    "## Jawaban No.4\n",
    "    Apabila phython tidak memiliki operator bawaan != (tidak sama dengan), maka phython bisa menggunakan operator logika not, contoh a != b, maka apabila menggunakan operator logika not kode berubah menjadi not(a == b)."
   ]
  },
  {
   "cell_type": "code",
   "execution_count": 35,
   "id": "fef98747",
   "metadata": {},
   "outputs": [],
   "source": [
    "a = 10\n",
    "b = 20"
   ]
  },
  {
   "cell_type": "code",
   "execution_count": 44,
   "id": "eb69d05b",
   "metadata": {},
   "outputs": [
    {
     "name": "stdout",
     "output_type": "stream",
     "text": [
      "a tidak sama dengan b =  True\n",
      "a sama dengan b       =  False\n"
     ]
    }
   ],
   "source": [
    "print(\"a tidak sama dengan b = \", (a != b))\n",
    "print(\"a sama dengan b       = \", (a == b))"
   ]
  },
  {
   "cell_type": "code",
   "execution_count": 43,
   "id": "cf87c1f1",
   "metadata": {},
   "outputs": [
    {
     "name": "stdout",
     "output_type": "stream",
     "text": [
      "a tidak sama dengan b =  True\n",
      "a sama dengan b       =  False\n"
     ]
    }
   ],
   "source": [
    "print(\"a tidak sama dengan b = \", (not(a == b)))\n",
    "print(\"a sama dengan b       = \", (a == b))"
   ]
  },
  {
   "cell_type": "markdown",
   "id": "8e26afd4",
   "metadata": {},
   "source": [
    "## Jawaban No.5\n",
    "    1. Tambahkan variable di 'def ask_name()', contoh 'def ask_name(x)'\n",
    "    2. Tambahkan 'return name'\n",
    "    3. Hapus 'ask_name()' yang berada di atas kode print\n",
    "    4. Ubah kode print menjadi 'print (\"Your name is\", ask_name(name))'"
   ]
  },
  {
   "cell_type": "code",
   "execution_count": 84,
   "id": "643e390b",
   "metadata": {},
   "outputs": [
    {
     "name": "stdout",
     "output_type": "stream",
     "text": [
      "Enter your name: Tatang\n",
      "Your name is Tatang\n"
     ]
    }
   ],
   "source": [
    "def ask_name(x):\n",
    "    name = input(\"Enter your name: \")\n",
    "    return name\n",
    "\n",
    "print (\"Your name is\", ask_name(name))"
   ]
  }
 ],
 "metadata": {
  "kernelspec": {
   "display_name": "Python 3 (ipykernel)",
   "language": "python",
   "name": "python3"
  },
  "language_info": {
   "codemirror_mode": {
    "name": "ipython",
    "version": 3
   },
   "file_extension": ".py",
   "mimetype": "text/x-python",
   "name": "python",
   "nbconvert_exporter": "python",
   "pygments_lexer": "ipython3",
   "version": "3.9.7"
  }
 },
 "nbformat": 4,
 "nbformat_minor": 5
}
