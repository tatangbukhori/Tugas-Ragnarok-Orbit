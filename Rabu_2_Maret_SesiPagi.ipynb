{
 "cells": [
  {
   "cell_type": "markdown",
   "id": "89f227df",
   "metadata": {},
   "source": [
    "# Tugas Pagi"
   ]
  },
  {
   "cell_type": "markdown",
   "id": "7a08f951",
   "metadata": {},
   "source": [
    "## Jawaban No.1\n",
    "\n",
    "### 1. False\n",
    "### 2. True\n",
    "### 3. True\n",
    "### 4. True\n",
    "### 5. False"
   ]
  },
  {
   "cell_type": "markdown",
   "id": "5aa0a86b",
   "metadata": {},
   "source": [
    "## Jawaban No.2"
   ]
  },
  {
   "cell_type": "code",
   "execution_count": 2,
   "id": "8ab4778d",
   "metadata": {},
   "outputs": [
    {
     "name": "stdout",
     "output_type": "stream",
     "text": [
      "Hello!\n",
      "Enter something : hello\n",
      "You entered :  hello\n"
     ]
    }
   ],
   "source": [
    "print('Hello!')\n",
    "something = input(\"Enter something : \" )\n",
    "print('You entered : ', something)"
   ]
  },
  {
   "cell_type": "markdown",
   "id": "de64b264",
   "metadata": {},
   "source": [
    "## Jawaban No.3"
   ]
  },
  {
   "cell_type": "code",
   "execution_count": 5,
   "id": "e900bebd",
   "metadata": {},
   "outputs": [
    {
     "name": "stdout",
     "output_type": "stream",
     "text": [
      "Hello!\n",
      "Enter something: something\n",
      "I don't know what, something means.\n"
     ]
    }
   ],
   "source": [
    "print('Hello!')\n",
    "something = input(\"Enter something: \")\n",
    "if (something == 'hello'):\n",
    "    print(\"Hello for you too!\")\n",
    "elif (something == 'hai'):\n",
    "    print(\"Hi there!\")\n",
    "else:\n",
    "    print(\"I don't know what,\", something, \"means.\")"
   ]
  },
  {
   "cell_type": "markdown",
   "id": "ad52350a",
   "metadata": {},
   "source": [
    "## Jawaban No.4"
   ]
  },
  {
   "cell_type": "code",
   "execution_count": 15,
   "id": "4157370b",
   "metadata": {},
   "outputs": [
    {
     "name": "stdout",
     "output_type": "stream",
     "text": [
      "halo hai halo hai halo hai halo hai halo hai halo hai halo hai halo hai halo hai halo hai halo hai halo hai halo hai halo hai halo hai halo hai halo hai halo hai halo hai halo hai halo hai halo hai halo hai halo hai halo hai halo hai halo hai halo hai halo hai halo hai halo hai halo hai halo hai halo hai halo hai halo hai halo hai halo hai halo hai halo hai halo hai halo hai halo hai halo hai halo hai halo hai halo hai halo hai halo hai halo hai halo hai halo hai halo hai halo hai halo hai halo hai halo hai halo hai halo hai halo hai halo hai halo hai halo hai halo hai halo hai halo hai halo hai halo hai halo hai halo hai halo hai halo hai halo hai halo hai halo hai halo hai halo hai halo hai halo hai halo hai halo hai halo hai halo hai halo hai halo hai halo hai halo hai halo hai halo hai halo hai halo hai halo hai halo hai halo hai halo hai halo hai halo hai halo hai halo hai halo hai \n"
     ]
    }
   ],
   "source": [
    "print(\"halo hai \" * 100)"
   ]
  },
  {
   "cell_type": "markdown",
   "id": "d55d2e85",
   "metadata": {},
   "source": [
    "## Jawaban No.5"
   ]
  },
  {
   "cell_type": "markdown",
   "id": "65410d52",
   "metadata": {},
   "source": [
    "    Player 1 = batu,    Player 2 = batu,    pemenang = seri\n",
    "    Player 1 = batu,    Player 2 = gunting, pemenang = player 1\n",
    "    Player 1 = batu,    Player 2 = kertas,  pemenang = player 2\n",
    "    Player 1 = gunting, Player 2 = gunting, pemenang = seri\n",
    "    Player 1 = gunting, Player 2 = kertas,  pemenang = player 1\n",
    "    Player 1 = gunting, Player 2 = batu,    pemenang = player 2\n",
    "    Player 1 = kertas,  Player 2 = kertas,  pemenang = seri\n",
    "    Player 1 = kertas,  Player 2 = batu,    pemenang = player 1\n",
    "    Player 1 = kertas,  Player 2 = gunting, pemenang = player 2"
   ]
  },
  {
   "cell_type": "code",
   "execution_count": 45,
   "id": "ac096a25",
   "metadata": {},
   "outputs": [
    {
     "name": "stdout",
     "output_type": "stream",
     "text": [
      "Player 1 batu/gunting/kertas ? kertas\n",
      "Player 2 batu/gunting/kertas ? batu\n",
      "Player 1 Menang !\n"
     ]
    }
   ],
   "source": [
    "player1 = input(\"Player 1 batu/gunting/kertas ? \")\n",
    "player2 = input(\"Player 2 batu/gunting/kertas ? \")\n",
    "\n",
    "if (player1 == \"batu\"):\n",
    "    if(player2 == \"batu\"):\n",
    "        print(\"Seri\")\n",
    "    elif(player2 == \"gunting\"):\n",
    "        print(\"Player 1 Menang !\")\n",
    "    elif(player2 == \"kertas\"):\n",
    "        print(\"Player 2 Menang !\")\n",
    "    else:\n",
    "        print(\"Input tidak valid!\")\n",
    "        \n",
    "elif(player1 == \"gunting\"):\n",
    "    if(player2 == \"gunting\"):\n",
    "        print(\"Seri\")\n",
    "    elif(player2 == \"kertas\"):\n",
    "        print(\"Player 1 Menang !\")\n",
    "    elif(player2 == \"batu\"):\n",
    "        print(\"Player 2 Menang !\")\n",
    "    else:\n",
    "        print(\"Input tidak valid!\")\n",
    "        \n",
    "elif(player1 == \"kertas\"):\n",
    "    if(player2 == \"kertas\"):\n",
    "        print(\"Seri\")\n",
    "    elif(player2 == \"batu\"):\n",
    "        print(\"Player 1 Menang !\")\n",
    "    elif(player2 == \"gunting\"):\n",
    "        print(\"Player 2 Menang !\")\n",
    "    else:\n",
    "        print(\"Input tidak valid!\")\n",
    "else:\n",
    "    print(\"Input tidak valid!\")"
   ]
  },
  {
   "cell_type": "markdown",
   "id": "806e111d",
   "metadata": {},
   "source": [
    "## Jawaban No.6"
   ]
  },
  {
   "cell_type": "code",
   "execution_count": 49,
   "id": "f90a9e4d",
   "metadata": {},
   "outputs": [
    {
     "name": "stdout",
     "output_type": "stream",
     "text": [
      "Input Kata : Hallo\n",
      "Input Kata : nama\n",
      "Input Kata : saya\n",
      "Input Kata : Tatang\n",
      "Input Kata : berhenti\n"
     ]
    }
   ],
   "source": [
    "i = 1\n",
    "while(i):\n",
    "    kata = input(\"Input Kata : \")\n",
    "    if(kata == \"berhenti\"):\n",
    "        i = 0\n",
    "    else:\n",
    "        i = 1"
   ]
  },
  {
   "cell_type": "markdown",
   "id": "d70dcc50",
   "metadata": {},
   "source": [
    "## Jawaban No.7"
   ]
  },
  {
   "cell_type": "code",
   "execution_count": 1,
   "id": "6d434647",
   "metadata": {},
   "outputs": [
    {
     "name": "stdout",
     "output_type": "stream",
     "text": [
      "====== Menu Makanan ======\n",
      "1. Nasi Goreng - Rp15.000\n",
      "2. Ayam Goreng - Rp10.000\n",
      "3. Bakwan      - Rp1000\n",
      "\n",
      "Input Menu (1/2/3) : 1\n",
      "Kamu memesan Nasi Goreng dengan harga Rp15.000, terima kasih sudah membeli\n",
      "\n",
      "====== Menu Makanan ======\n",
      "1. Nasi Goreng - Rp15.000\n",
      "2. Ayam Goreng - Rp10.000\n",
      "3. Bakwan      - Rp1000\n",
      "\n",
      "Input Menu (1/2/3) : 2\n",
      "Kamu memesan Ayam Goreng dengan harga Rp10.000, terima kasih sudah membeli\n",
      "\n",
      "====== Menu Makanan ======\n",
      "1. Nasi Goreng - Rp15.000\n",
      "2. Ayam Goreng - Rp10.000\n",
      "3. Bakwan      - Rp1000\n",
      "\n",
      "Input Menu (1/2/3) : 3\n",
      "Kamu memesan Bakwan dengan harga Rp1.000, terima kasih sudah membeli\n",
      "\n",
      "====== Menu Makanan ======\n",
      "1. Nasi Goreng - Rp15.000\n",
      "2. Ayam Goreng - Rp10.000\n",
      "3. Bakwan      - Rp1000\n",
      "\n",
      "Input Menu (1/2/3) : cukup\n",
      "Terima kasih sudah membeli\n"
     ]
    }
   ],
   "source": [
    "i = 1\n",
    "while(i):\n",
    "    print(\"====== Menu Makanan ======\")\n",
    "    print(\"1. Nasi Goreng - Rp15.000\")\n",
    "    print(\"2. Ayam Goreng - Rp10.000\")\n",
    "    print(\"3. Bakwan      - Rp1000\")\n",
    "    print(\"\")\n",
    "    menu = input(\"Input Menu (1/2/3) : \")\n",
    "    if(menu == \"cukup\"):\n",
    "        i = 0\n",
    "        print(\"Terima kasih sudah membeli\")\n",
    "    elif(menu == \"1\"):\n",
    "        print(\"Kamu memesan Nasi Goreng dengan harga Rp15.000, terima kasih sudah membeli\")\n",
    "        print(\"\")\n",
    "    elif(menu == \"2\"):\n",
    "        print(\"Kamu memesan Ayam Goreng dengan harga Rp10.000, terima kasih sudah membeli\")\n",
    "        print(\"\")\n",
    "    elif(menu == \"3\"):\n",
    "        print(\"Kamu memesan Bakwan dengan harga Rp1.000, terima kasih sudah membeli\")\n",
    "        print(\"\")\n",
    "    else:\n",
    "        print(\"Menu yang dimasukan salah, silahkan coba lagi!\")\n",
    "        i = 1"
   ]
  },
  {
   "cell_type": "markdown",
   "id": "5b5aa4e7",
   "metadata": {},
   "source": [
    "## Jawaban No.8"
   ]
  },
  {
   "cell_type": "code",
   "execution_count": 2,
   "id": "4c5c239e",
   "metadata": {},
   "outputs": [
    {
     "name": "stdout",
     "output_type": "stream",
     "text": [
      "====== Menu Makanan ======\n",
      "1. Nasi Goreng - Rp 15000\n",
      "2. Ayam Goreng - Rp 10000\n",
      "3. Bakwan      - Rp 1000\n",
      "4. Donat       - Rp 2500\n",
      "\n",
      "Input Menu (1/2/3/4) : 2\n",
      "Berapa potong? 10\n",
      "Kamu memesan Ayam Goreng 10 potong dengan total harga Rp 100000 , terima kasih sudah membeli\n",
      "\n",
      "====== Menu Makanan ======\n",
      "1. Nasi Goreng - Rp 15000\n",
      "2. Ayam Goreng - Rp 10000\n",
      "3. Bakwan      - Rp 1000\n",
      "4. Donat       - Rp 2500\n",
      "\n",
      "Input Menu (1/2/3/4) : 3\n",
      "Berapa pcs? 10\n",
      "Kamu memesan Bakwan 10 pcs dengan total harga Rp 10000 , terima kasih sudah membeli\n",
      "\n",
      "====== Menu Makanan ======\n",
      "1. Nasi Goreng - Rp 15000\n",
      "2. Ayam Goreng - Rp 10000\n",
      "3. Bakwan      - Rp 1000\n",
      "4. Donat       - Rp 2500\n",
      "\n",
      "Input Menu (1/2/3/4) : cukup\n",
      "Terima kasih sudah membeli\n"
     ]
    }
   ],
   "source": [
    "def kali(x,y):\n",
    "    return x * y\n",
    "\n",
    "hrgNasi = 15000\n",
    "hrgAyam = 10000\n",
    "hrgBakwan = 1000\n",
    "hrgDonat = 2500\n",
    "\n",
    "i = 1\n",
    "while(i):\n",
    "    print(\"====== Menu Makanan ======\")\n",
    "    print(\"1. Nasi Goreng - Rp\", hrgNasi)\n",
    "    print(\"2. Ayam Goreng - Rp\", hrgAyam)\n",
    "    print(\"3. Bakwan      - Rp\", hrgBakwan)\n",
    "    print(\"4. Donat       - Rp\", hrgDonat)\n",
    "    print(\"\")\n",
    "    menu = input(\"Input Menu (1/2/3/4) : \")\n",
    "    if(menu == \"cukup\"):\n",
    "        i = 0\n",
    "        print(\"Terima kasih sudah membeli\")\n",
    "    elif(menu == \"1\"):\n",
    "        jumlah = int(input(\"Berapa bungkus? \"))\n",
    "        print(\"Kamu memesan Nasi Goreng\", jumlah, \"bungkus dengan total harga Rp\", kali(hrgNasi, jumlah), \", terima kasih sudah membeli\")\n",
    "        print(\"\")\n",
    "    elif(menu == \"2\"):\n",
    "        jumlah = int(input(\"Berapa potong? \"))\n",
    "        print(\"Kamu memesan Ayam Goreng\", jumlah, \"potong dengan total harga Rp\", kali(hrgAyam, jumlah), \", terima kasih sudah membeli\")\n",
    "        print(\"\")\n",
    "    elif(menu == \"3\"):\n",
    "        jumlah = int(input(\"Berapa pcs? \"))\n",
    "        print(\"Kamu memesan Bakwan\", jumlah, \"pcs dengan total harga Rp\", kali(hrgBakwan, jumlah), \", terima kasih sudah membeli\")\n",
    "        print(\"\")\n",
    "    elif(menu == \"4\"):\n",
    "        jumlah = int(input(\"Berapa pcs? \"))\n",
    "        print(\"Kamu memesan Donat\", jumlah, \"pcs dengan total harga Rp\", kali(hrgDonat, jumlah), \", terima kasih sudah membeli\")\n",
    "    else:\n",
    "        print(\"Menu yang dimasukan salah, silahkan coba lagi!\")\n",
    "        i = 1"
   ]
  },
  {
   "cell_type": "code",
   "execution_count": null,
   "id": "386d37b4",
   "metadata": {},
   "outputs": [],
   "source": []
  }
 ],
 "metadata": {
  "kernelspec": {
   "display_name": "Python 3 (ipykernel)",
   "language": "python",
   "name": "python3"
  },
  "language_info": {
   "codemirror_mode": {
    "name": "ipython",
    "version": 3
   },
   "file_extension": ".py",
   "mimetype": "text/x-python",
   "name": "python",
   "nbconvert_exporter": "python",
   "pygments_lexer": "ipython3",
   "version": "3.9.7"
  }
 },
 "nbformat": 4,
 "nbformat_minor": 5
}
