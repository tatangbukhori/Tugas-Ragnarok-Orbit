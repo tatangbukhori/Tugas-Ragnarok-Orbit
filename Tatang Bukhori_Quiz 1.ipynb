{
 "cells": [
  {
   "cell_type": "markdown",
   "id": "09fa0b3e",
   "metadata": {},
   "source": [
    "# Quiz 1\n",
    "\n",
    "## Sesi Pagi"
   ]
  },
  {
   "cell_type": "markdown",
   "id": "1a9b995c",
   "metadata": {},
   "source": [
    "### Phython OOP"
   ]
  },
  {
   "cell_type": "markdown",
   "id": "c062548f",
   "metadata": {},
   "source": [
    "1. Object Oriented Programming (OOP) adalah paradigma pemrograman yang mempresentasikan objek seperti objek di sekitar kita dalm bentuk kode program. Berikut adalah 2 implementasi konsep OOP menggunakan phython :"
   ]
  },
  {
   "cell_type": "code",
   "execution_count": 1,
   "id": "6305cd6c",
   "metadata": {},
   "outputs": [
    {
     "name": "stdout",
     "output_type": "stream",
     "text": [
      "nama: Mino, usia: 4, jenis: Karnivora, mamalia: True\n",
      "nama: Jago, usia: 6, jenis: Omnivora, mamalia: False\n",
      "warna: Hitam, jenis ayam: Ayam Jago, jenis hewan: Ayam\n"
     ]
    }
   ],
   "source": [
    "# Inheritance\n",
    "class Hewan(object):\n",
    "    def __init__(ini, nama, usia, jenis, mamalia):\n",
    "        ini.nama = nama\n",
    "        ini.usia = usia\n",
    "        ini.jenis = jenis\n",
    "        ini.mamalia = mamalia\n",
    "        \n",
    "    def info_hewan(ini):\n",
    "        print(f\"nama: {ini.nama}, usia: {ini.usia}, jenis: {ini.jenis}, mamalia: {ini.mamalia}\")\n",
    "        \n",
    "class Ayam(Hewan):\n",
    "    def __init__(ini, nama, usia, jenis, mamalia, warna, jenis_ayam, jenis_hewan):\n",
    "        super().__init__(nama, usia, jenis, mamalia)\n",
    "        ini.warna = warna\n",
    "        ini.jenis_ayam = jenis_ayam\n",
    "        ini.jenis_hewan = jenis_hewan\n",
    "    \n",
    "    def info_ayam(ini):\n",
    "        super().info_hewan()\n",
    "        print(f\"warna: {ini.warna}, jenis ayam: {ini.jenis_ayam}, jenis hewan: {ini.jenis_hewan}\")\n",
    "        \n",
    "hewan1 = Hewan(\"Mino\", 4, \"Karnivora\", True)\n",
    "hewan1.info_hewan()\n",
    "\n",
    "hewan2 = Ayam(\"Jago\", 6, \"Omnivora\", False, \"Hitam\", \"Ayam Jago\", \"Ayam\")\n",
    "hewan2.info_ayam()"
   ]
  },
  {
   "cell_type": "code",
   "execution_count": 2,
   "id": "cc05709a",
   "metadata": {},
   "outputs": [],
   "source": [
    "from abc import abstractmethod, ABC"
   ]
  },
  {
   "cell_type": "code",
   "execution_count": 3,
   "id": "6542879a",
   "metadata": {},
   "outputs": [
    {
     "name": "stdout",
     "output_type": "stream",
     "text": [
      "nama barang: TV, jenis barang: Elektronik\n",
      "Harga barang ini adalah Rp 2.000.000\n",
      "Ini adalah barang\n"
     ]
    }
   ],
   "source": [
    "# Abstraction\n",
    "class Barang(ABC):\n",
    "    def desc():\n",
    "        print(\"Ini adalah barang\")\n",
    "        \n",
    "    #AbstractMethod\n",
    "    @abstractmethod\n",
    "    def harga_barang(self, x):\n",
    "        pass\n",
    "    \n",
    "class Elektronik(Barang):\n",
    "    def __init__(self, nama, jenis):\n",
    "        self.nama = nama\n",
    "        self.jenis = jenis\n",
    "    def harga_barang(self, x):\n",
    "        print(\"Harga barang ini adalah Rp\", x)\n",
    "    def info_elektro(self):\n",
    "        print(f\"nama barang: {self.nama}, jenis barang: {self.jenis}\")\n",
    "        \n",
    "barang1 = Elektronik(\"TV\", \"Elektronik\")\n",
    "barang1.info_elektro()\n",
    "barang1.harga_barang(\"2.000.000\")\n",
    "\n",
    "Barang.desc()"
   ]
  },
  {
   "cell_type": "markdown",
   "id": "4d7fc2b9",
   "metadata": {},
   "source": [
    "2. Ada 2 jenis module di phython, yaitu phython custom modules dan phython built-in modules. Phython custom modules adalah modul phython yang berekstensi .py yang kita buat sendiri. Phython built-in modules adalah modul phython yang sudah menjadi bawaan dari phython nya.\n",
    "\n",
    "\n",
    "3. Perhitungan menggunakan module math"
   ]
  },
  {
   "cell_type": "code",
   "execution_count": 13,
   "id": "b32a4549",
   "metadata": {},
   "outputs": [
    {
     "name": "stdout",
     "output_type": "stream",
     "text": [
      "28.145095132914648\n"
     ]
    }
   ],
   "source": [
    "import math\n",
    "\n",
    "a = math.sqrt(175)\n",
    "b = 4 * math.sqrt(7)\n",
    "c = (1/3)\n",
    "d = math.log(81, 3)\n",
    "\n",
    "print(a + b + c + d)"
   ]
  },
  {
   "cell_type": "markdown",
   "id": "a3a2794b",
   "metadata": {},
   "source": [
    "4. Custom exception handling adalah suatu cara untuk mencari error di sebuah syntax yang phython exception nya bisa di ubah oleh kita sendiri (custom), contoh:"
   ]
  },
  {
   "cell_type": "code",
   "execution_count": 12,
   "id": "67432be4",
   "metadata": {},
   "outputs": [
    {
     "name": "stdout",
     "output_type": "stream",
     "text": [
      "Masukan angka 1: 3\n"
     ]
    },
    {
     "ename": "Exception",
     "evalue": "Bukan Angka 1",
     "output_type": "error",
     "traceback": [
      "\u001b[1;31m---------------------------------------------------------------------------\u001b[0m",
      "\u001b[1;31mException\u001b[0m                                 Traceback (most recent call last)",
      "\u001b[1;32m~\\AppData\\Local\\Temp/ipykernel_10820/2012093617.py\u001b[0m in \u001b[0;36m<module>\u001b[1;34m\u001b[0m\n\u001b[0;32m      1\u001b[0m \u001b[0minp\u001b[0m \u001b[1;33m=\u001b[0m \u001b[0mint\u001b[0m\u001b[1;33m(\u001b[0m\u001b[0minput\u001b[0m\u001b[1;33m(\u001b[0m\u001b[1;34m\"Masukan angka 1: \"\u001b[0m\u001b[1;33m)\u001b[0m\u001b[1;33m)\u001b[0m\u001b[1;33m\u001b[0m\u001b[1;33m\u001b[0m\u001b[0m\n\u001b[0;32m      2\u001b[0m \u001b[1;32mif\u001b[0m\u001b[1;33m(\u001b[0m\u001b[0minp\u001b[0m \u001b[1;33m!=\u001b[0m \u001b[1;36m1\u001b[0m\u001b[1;33m)\u001b[0m\u001b[1;33m:\u001b[0m\u001b[1;33m\u001b[0m\u001b[1;33m\u001b[0m\u001b[0m\n\u001b[1;32m----> 3\u001b[1;33m     \u001b[1;32mraise\u001b[0m \u001b[0mException\u001b[0m\u001b[1;33m(\u001b[0m\u001b[1;34m\"Bukan Angka 1\"\u001b[0m\u001b[1;33m)\u001b[0m\u001b[1;33m\u001b[0m\u001b[1;33m\u001b[0m\u001b[0m\n\u001b[0m",
      "\u001b[1;31mException\u001b[0m: Bukan Angka 1"
     ]
    }
   ],
   "source": [
    "inp = int(input(\"Masukan angka 1: \"))\n",
    "if(inp != 1):\n",
    "    raise Exception(\"Bukan Angka 1\")"
   ]
  },
  {
   "cell_type": "markdown",
   "id": "258a3bf5",
   "metadata": {},
   "source": [
    "### Artificial Intelligence"
   ]
  },
  {
   "cell_type": "markdown",
   "id": "16545877",
   "metadata": {},
   "source": [
    "1. Perbedaan structured dan unstructured data adalah dalam bentuk data nya tersebut, data structured berbentuk tabular atau tabel-tabel sedangkan data unstructured berbentuk seperti gambar, teks, dan audio. contoh 3 sumber data adalah kamera, sensor, dan microphone.\n",
    "\n",
    "\n",
    "2. AI adalah kumpulan algoritma yang dikumpulkan untuk membangun sebuah kecerdasan. Machine learning adalah algoritma yang menggunakan data untuk membangun kecerdasan. Sedangkan deep learning adalah fitur rekayasa otomatis\n",
    "\n",
    "\n",
    "3. Perbedaan machine learning dan traditional software adalah di approach nya.\n",
    "\n",
    "    Machine learning memasukan data terlebih dahulu, lalu melatih algoritma machine learning nya, setelah itu evaluasi solusi, apabila evaluasi solusi tidak didapat maka akan ada proses analisis error, setelah error di analisa mesin akan mempelajari masalahnya, setelah itu masuk kembali ke melatih algoritma machine learning nya, apabila solusi yang terbaik sudah ditemukan maka aplikasi akan di luncurkan.\n",
    "\n",
    "    Sedangkan traditional software tidak ada proses memasukan data terlebih dahulu. Traditional software memulai nya dengan mempelajari masalah, lalu menulis aturan, setelah itu evaluasi, apabila masih terdapat kesalahan maka akan masuk ke proses analisis error, setelah analisis error sudah selesai maka kembali lagi ke tahap mempelajari masalah dan mengulang menulis aturan kembali, apabila sudah tidak terdapat kesalahan, maka aplikasi akan di luncurkan.\n",
    "    \n",
    "    \n",
    "4. Contoh aplikasi machine learning smart city adalah self driving car, e-commerce, traffic offense recognition. Contoh aplikasi machine learning agriculture adalah e-commerce agriculture product, fertilizer spraying drone, dan rice transplanter."
   ]
  },
  {
   "cell_type": "markdown",
   "id": "885c683e",
   "metadata": {},
   "source": [
    "### Maths For AI"
   ]
  },
  {
   "cell_type": "markdown",
   "id": "060e1d14",
   "metadata": {},
   "source": [
    "1. Mengapa ilmu matematika penting di AI, karena kecerdasan buatan (AI) seluruhnya dibuat berdasarkan ilmu matematika, sehingga untuk mengembangkan teknologi AI ini, ilmu matematika lah yang harus berkembang terlebih dahulu.\n",
    "\n",
    "\n",
    "2. Perbedannya vektor adalah besaran yang memiliki nilai dan arah, sedangkan skalar adalah besaran yang hanya memiliki nilai dan tidak memiliki arah.\n",
    "\n",
    "\n",
    "3. Jarak Euclidean adalah jarak antara dua titik yang satu dengan yang lain yang dapat diukur dengna menggunakan penggaris, pada perhitungan jarak Euclidean digunakan formula Pythagoras. Sedangkan jarak manhattan merupakan bentuk geometri di mana fungsi jarak biasa digantikan oleh metrik baru di mana jarak antara dua titik adalah jumlah dari perbedaan mutlak mereka Cartesian koordinat.\n",
    "\n",
    "\n",
    "4. Matriks berguna untuk menyimpan sebuah data. Menggunakan matriks dalam ilmu matematika ketika menerapkan AI juga dapat mempermudah untuk melakukan operasi pada piksel karena penggunaan matriks untuk menerapkan aljabar linier."
   ]
  },
  {
   "cell_type": "markdown",
   "id": "69cc0981",
   "metadata": {},
   "source": [
    "### Machine Learning"
   ]
  },
  {
   "cell_type": "markdown",
   "id": "c6ca211c",
   "metadata": {},
   "source": [
    "1. Perbedaan mendasar supervised learning dan unsupervised learning adalah di datanya. Supervised learning mempunyai label dan kategori sedangkan unsupervised learning tidak memilikinya. Contoh supervised learning adalah memprediksi harga saham dan memprediksi cuaca. Sedangkan contoh unsupervised learning yaitu segmentasi pelanggan dan mengurangi kompleksitas suatu masalah\n",
    "\n",
    "\n",
    "2. Ada 6 tahapan dalam AI Project cycle, ada problem scoping, data acquisition, data exploration, modelling, evaluation, dan deployment. Untuk problem scoping adalah tahap mendeskripsikan masalah yang dimiliki. Data acquisition adalah tahapan mengambil data yang kita punya. Data exploration adalah tahapan mempersiapkan data yang kita punya. Modelling adalah tahapan menentukan model yang cocok untuk data yang kita punya. Evaluation adalah tahapan proses melihat dan menentukan model yang lebih baik. Deployment adalah tahapan penerapan AI itu sendiri bisa di web, Iot, dan yang lainnya\n",
    "\n",
    "\n",
    "3. Perbedaan regression dan clustering adalah regression bersifat memetakan masukan ke keluaran berkelanjutan sedangkan clustering bersifat mempelajari hubungan antara fitur individu.\n",
    "\n",
    "\n",
    "4. Algoritma Artificial Neural Network (ANN) merupakan gabungan dari beberapa neuron (perceptron) yang disusun dalam beberapa lapisan (layer). ANN juga merupakan teknologi AI yang meniru dan terinspirasi dari cara kerja neuron pada otak manusia. ANN berfungsi untuk memecahkan masalah tertentu seperti mengklasifikasikan informasi, memprediksi hasil dan data cluster."
   ]
  },
  {
   "cell_type": "code",
   "execution_count": null,
   "id": "fe7e7274",
   "metadata": {},
   "outputs": [],
   "source": []
  }
 ],
 "metadata": {
  "kernelspec": {
   "display_name": "Python 3 (ipykernel)",
   "language": "python",
   "name": "python3"
  },
  "language_info": {
   "codemirror_mode": {
    "name": "ipython",
    "version": 3
   },
   "file_extension": ".py",
   "mimetype": "text/x-python",
   "name": "python",
   "nbconvert_exporter": "python",
   "pygments_lexer": "ipython3",
   "version": "3.9.7"
  }
 },
 "nbformat": 4,
 "nbformat_minor": 5
}
