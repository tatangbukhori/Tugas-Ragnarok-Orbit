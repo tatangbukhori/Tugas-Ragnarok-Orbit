{
 "cells": [
  {
   "cell_type": "markdown",
   "id": "7b6df5e9",
   "metadata": {},
   "source": [
    "# Tugas Uji Hipotesis\n",
    "\n",
    "\n",
    "Misalkan kamu adalah data scientist di gojek. Kamu ingin mengetahui apakah kemacetan mempengaruhi tingkat kepuasan pelanggan. Jadi kamu ingin membandingkan nilai \"bintang\" dari customer saat dia order di jam macet dan tidak macet. (#hint = data dari customer yang sama)\n",
    "\n",
    "macet = [2, 3, 5, 4, 5, 4, 4, 3, 4, 3, 4, 5, 4, 5, 4, 3, 4, 3, 3, 5, 4, 3, 4, 3, 4, 3, 4, 4, 5]\n",
    "\n",
    "tidak_macet = [2, 2, 4, 5, 4, 3, 3, 3, 3, 3, 3, 4, 4, 5, 4, 3, 3, 2, 3, 4, 4, 3, 3, 3, 4, 3, 4, 3, 4]\n",
    "\n",
    "1. Buat hipotesisnya\n",
    "2. Lakukan uji asumsi normalitasnya\n",
    "3. Jika datanya normal lakukan uji parametrik, jika tidak berdistribusi normal lakukan uji nonparametrik\n",
    "4. Apa kesimpulan uji hipotesisnya?\n",
    "\n",
    "\n",
    "### 1. Buat Hipotesis"
   ]
  },
  {
   "cell_type": "code",
   "execution_count": 16,
   "id": "a282fd86",
   "metadata": {},
   "outputs": [],
   "source": [
    "import matplotlib.pyplot as plt\n",
    "import pandas as pd\n",
    "import seaborn as sns\n",
    "import numpy as np\n",
    "from scipy import stats"
   ]
  },
  {
   "cell_type": "code",
   "execution_count": 17,
   "id": "fa7b27ff",
   "metadata": {},
   "outputs": [],
   "source": [
    "macet = np.array([2, 3, 5, 4, 5, 4, 4, 3, 4, 3, 4, 5, 4, 5, 4, 3, 4, 3, 3, 5, 4, 3, 4, 3, 4, 3, 4, 4, 5])\n",
    "tidak_macet = np.array([2, 2, 4, 5, 4, 3, 3, 3, 3, 3, 3, 4, 4, 5, 4, 3, 3, 2, 3, 4, 4, 3, 3, 3, 4, 3, 4, 3, 4])"
   ]
  },
  {
   "cell_type": "markdown",
   "id": "c4be5cc1",
   "metadata": {},
   "source": [
    "### 2. Uji Normalitas\n",
    "\n",
    "    Ho = data berdistribusi normal\n",
    "    Ha = data tidak berdistribusi normal\n",
    "    \n",
    "    Asumsikan Rentang Kepercayaanya = 95% alpha = 5%"
   ]
  },
  {
   "cell_type": "code",
   "execution_count": 18,
   "id": "e950c28c",
   "metadata": {},
   "outputs": [
    {
     "name": "stderr",
     "output_type": "stream",
     "text": [
      "C:\\Users\\user\\anaconda3\\lib\\site-packages\\seaborn\\distributions.py:2619: FutureWarning: `distplot` is a deprecated function and will be removed in a future version. Please adapt your code to use either `displot` (a figure-level function with similar flexibility) or `histplot` (an axes-level function for histograms).\n",
      "  warnings.warn(msg, FutureWarning)\n"
     ]
    },
    {
     "data": {
      "text/plain": [
       "<AxesSubplot:ylabel='Density'>"
      ]
     },
     "execution_count": 18,
     "metadata": {},
     "output_type": "execute_result"
    },
    {
     "data": {
      "image/png": "[encoded data removed]",
      "text/plain": [
       "<Figure size 432x288 with 1 Axes>"
      ]
     },
     "metadata": {
      "needs_background": "light"
     },
     "output_type": "display_data"
    }
   ],
   "source": [
    "sns.distplot(macet)"
   ]
  },
  {
   "cell_type": "code",
   "execution_count": 19,
   "id": "962b3dc0",
   "metadata": {},
   "outputs": [
    {
     "name": "stderr",
     "output_type": "stream",
     "text": [
      "C:\\Users\\user\\anaconda3\\lib\\site-packages\\seaborn\\distributions.py:2619: FutureWarning: `distplot` is a deprecated function and will be removed in a future version. Please adapt your code to use either `displot` (a figure-level function with similar flexibility) or `histplot` (an axes-level function for histograms).\n",
      "  warnings.warn(msg, FutureWarning)\n"
     ]
    },
    {
     "data": {
      "text/plain": [
       "<AxesSubplot:ylabel='Density'>"
      ]
     },
     "execution_count": 19,
     "metadata": {},
     "output_type": "execute_result"
    },
    {
     "data": {
      "image/png": "[encoded data removed]",
      "text/plain": [
       "<Figure size 432x288 with 1 Axes>"
      ]
     },
     "metadata": {
      "needs_background": "light"
     },
     "output_type": "display_data"
    }
   ],
   "source": [
    "sns.distplot(tidak_macet)"
   ]
  },
  {
   "cell_type": "code",
   "execution_count": 20,
   "id": "6fae8886",
   "metadata": {},
   "outputs": [
    {
     "name": "stdout",
     "output_type": "stream",
     "text": [
      "uji kolmogorov smirnov data macet =  KstestResult(statistic=0.2414618941043637, pvalue=0.056685222453497386)\n",
      "uji kolmogorov smirnov data tidak macet =  KstestResult(statistic=0.2769460572882385, pvalue=0.018550502658514656)\n"
     ]
    }
   ],
   "source": [
    "#Uji Kolmogorov-Smirnov\n",
    "z_score_macet = stats.zscore(macet)\n",
    "z_score_tidak_macet = stats.zscore(tidak_macet)\n",
    "print('uji kolmogorov smirnov data macet = ', stats.kstest(z_score_macet, \"norm\"))\n",
    "print('uji kolmogorov smirnov data tidak macet = ', stats.kstest(z_score_tidak_macet, \"norm\"))"
   ]
  },
  {
   "cell_type": "markdown",
   "id": "6b77b6f7",
   "metadata": {},
   "source": [
    "\n",
    "    alpha = 0.05\n",
    "    Hasil dari p-value macet       = 0.056 (>0.05) Data berdistribusi normal\n",
    "    Hasil dari p-value tidak_macet = 0.018 (<0.05) Data tidak berdistribusi normal\n",
    "\n",
    "    Karena ada nilai p-value <= 0.05, maka Ho ditolak, data tidak berdistribusi normal"
   ]
  },
  {
   "cell_type": "markdown",
   "id": "310b0438",
   "metadata": {},
   "source": [
    "### 3. Uji Wilcoxon (Non Parametrik)\n",
    "    Karena data tidak berdistribusi normal, maka akan dilakukan uji beda non-parametrik wilcoxon. Dilakukan uji wilcoxon karena 2 kelompok data berhubungan yaitu macet dan tidak macet."
   ]
  },
  {
   "cell_type": "code",
   "execution_count": 21,
   "id": "55ef67f3",
   "metadata": {},
   "outputs": [
    {
     "data": {
      "text/plain": [
       "WilcoxonResult(statistic=8.0, pvalue=0.0007891129890156299)"
      ]
     },
     "execution_count": 21,
     "metadata": {},
     "output_type": "execute_result"
    }
   ],
   "source": [
    "m = macet - tidak_macet\n",
    "stats.wilcoxon(m)"
   ]
  },
  {
   "cell_type": "markdown",
   "id": "b7eb6fc9",
   "metadata": {},
   "source": [
    "### 4. Kesimpulan Uji Hipotesis\n",
    "    \n",
    "    karena p-value = 0.0007 < 0.05, maka Ho ditolak dan Ha diterima, terdapat perbedaan yang signifikan dari nilai \"bintang\" customer saat order macet dan tidak macet. nilai \"bintang\" dari costumer saat sedang order di jam macet dan tidak macet berpengaruh"
   ]
  }
 ],
 "metadata": {
  "kernelspec": {
   "display_name": "Python 3 (ipykernel)",
   "language": "python",
   "name": "python3"
  },
  "language_info": {
   "codemirror_mode": {
    "name": "ipython",
    "version": 3
   },
   "file_extension": ".py",
   "mimetype": "text/x-python",
   "name": "python",
   "nbconvert_exporter": "python",
   "pygments_lexer": "ipython3",
   "version": "3.9.7"
  }
 },
 "nbformat": 4,
 "nbformat_minor": 5
}
