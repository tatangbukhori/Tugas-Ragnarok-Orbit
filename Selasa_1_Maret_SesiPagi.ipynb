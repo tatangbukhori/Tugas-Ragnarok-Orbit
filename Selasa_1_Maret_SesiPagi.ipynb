{
 "cells": [
  {
   "cell_type": "markdown",
   "id": "4f9361d8",
   "metadata": {},
   "source": [
    "# Phyton's Interactive Console : The Interpreter"
   ]
  },
  {
   "cell_type": "code",
   "execution_count": 40,
   "id": "63dc3df3",
   "metadata": {},
   "outputs": [
    {
     "name": "stdout",
     "output_type": "stream",
     "text": [
      "Hello World!\n"
     ]
    }
   ],
   "source": [
    "print(\"Hello World!\") #As usual with any language we start with the print function"
   ]
  },
  {
   "cell_type": "markdown",
   "id": "09569eb5",
   "metadata": {},
   "source": [
    "# String\n",
    "## Create a String"
   ]
  },
  {
   "cell_type": "code",
   "execution_count": 1,
   "id": "fc293753",
   "metadata": {},
   "outputs": [
    {
     "name": "stdout",
     "output_type": "stream",
     "text": [
      "Hello\n",
      "\n",
      "This is also a string\n"
     ]
    }
   ],
   "source": [
    "# Single word\n",
    "print('Hello')\n",
    "\n",
    "print() # Used to have a line space between two sentences.\n",
    "# Entire phrase\n",
    "print(\"This is also a string\")"
   ]
  },
  {
   "cell_type": "markdown",
   "id": "217bd3c6",
   "metadata": {},
   "source": [
    "# Variable : Store your Value in me"
   ]
  },
  {
   "cell_type": "code",
   "execution_count": 2,
   "id": "34d4c56f",
   "metadata": {},
   "outputs": [
    {
     "name": "stdout",
     "output_type": "stream",
     "text": [
      "New York\n",
      "<class 'str'>\n",
      "8\n"
     ]
    }
   ],
   "source": [
    "s = \"New York\"\n",
    "print(s)\n",
    "print(type(s))\n",
    "print(len(s)) # what's the string length"
   ]
  },
  {
   "cell_type": "markdown",
   "id": "490db414",
   "metadata": {},
   "source": [
    "## String Indexing"
   ]
  },
  {
   "cell_type": "code",
   "execution_count": 3,
   "id": "5a030d40",
   "metadata": {},
   "outputs": [],
   "source": [
    "s = \"Hello World\""
   ]
  },
  {
   "cell_type": "code",
   "execution_count": 43,
   "id": "f28bc3f9",
   "metadata": {},
   "outputs": [
    {
     "name": "stdout",
     "output_type": "stream",
     "text": [
      "Hello World\n",
      "\n"
     ]
    }
   ],
   "source": [
    "# Print the object\n",
    "print(s)\n",
    "print()"
   ]
  },
  {
   "cell_type": "code",
   "execution_count": 44,
   "id": "d7d1acbd",
   "metadata": {},
   "outputs": [
    {
     "name": "stdout",
     "output_type": "stream",
     "text": [
      "H\n",
      "\n"
     ]
    }
   ],
   "source": [
    "# Show first element (in this case a letter)\n",
    "print(s[0])\n",
    "print()"
   ]
  },
  {
   "cell_type": "code",
   "execution_count": 45,
   "id": "5b552378",
   "metadata": {},
   "outputs": [
    {
     "name": "stdout",
     "output_type": "stream",
     "text": [
      "e\n"
     ]
    }
   ],
   "source": [
    "# Show the second element (in this case a letter)\n",
    "print(s[1])"
   ]
  },
  {
   "cell_type": "markdown",
   "id": "852e562c",
   "metadata": {},
   "source": [
    "## String Concatenation and Repetition"
   ]
  },
  {
   "cell_type": "code",
   "execution_count": 47,
   "id": "c052d64b",
   "metadata": {},
   "outputs": [
    {
     "name": "stdout",
     "output_type": "stream",
     "text": [
      "Hello World\n"
     ]
    }
   ],
   "source": [
    "# concatenation (addition)\n",
    "s1 = 'Hello'\n",
    "s2 = \"World\"\n",
    "print(s1 + \" \" + s2)"
   ]
  },
  {
   "cell_type": "code",
   "execution_count": 49,
   "id": "adb0f5c2",
   "metadata": {},
   "outputs": [
    {
     "name": "stdout",
     "output_type": "stream",
     "text": [
      "Hello_Hello_Hello_\n",
      "----------\n"
     ]
    }
   ],
   "source": [
    "# repetition (multiplication)\n",
    "print(\"Hello_\" * 3)\n",
    "print(\"-\" * 10)"
   ]
  },
  {
   "cell_type": "markdown",
   "id": "432f6c95",
   "metadata": {},
   "source": [
    "## String Slicing & Indexing"
   ]
  },
  {
   "cell_type": "code",
   "execution_count": 51,
   "id": "00d251b0",
   "metadata": {},
   "outputs": [],
   "source": [
    "s = \"Namaste World\""
   ]
  },
  {
   "cell_type": "code",
   "execution_count": 52,
   "id": "400e815a",
   "metadata": {},
   "outputs": [
    {
     "name": "stdout",
     "output_type": "stream",
     "text": [
      "a\n",
      "e Wor\n",
      "Worl\n",
      "True\n"
     ]
    }
   ],
   "source": [
    "#print sub string\n",
    "print(s[1]) #This is indexing\n",
    "print(s[6:11]) #This is known as slicing\n",
    "print(s[-5:-1])\n",
    "\n",
    "#test substring membership\n",
    "print(\"Wor\" in s)"
   ]
  },
  {
   "cell_type": "markdown",
   "id": "b7c3ec8e",
   "metadata": {},
   "source": [
    "## Basic Built-in String methods"
   ]
  },
  {
   "cell_type": "code",
   "execution_count": 1,
   "id": "d436c72e",
   "metadata": {},
   "outputs": [
    {
     "name": "stdout",
     "output_type": "stream",
     "text": [
      "HELLO WORLD\n",
      "hello world\n"
     ]
    }
   ],
   "source": [
    "s = \"Hello World\"\n",
    "print(s.upper()) #convert all the element of the string to Uppercase\n",
    "print(s.lower()) #convert all the element of the string to Lowercase"
   ]
  },
  {
   "cell_type": "markdown",
   "id": "b807e41d",
   "metadata": {},
   "source": [
    "## Print Formatting"
   ]
  },
  {
   "cell_type": "code",
   "execution_count": 6,
   "id": "50bb3993",
   "metadata": {},
   "outputs": [],
   "source": [
    "name = \"Einsten\"\n",
    "age = \"22\"\n",
    "married = True"
   ]
  },
  {
   "cell_type": "code",
   "execution_count": 8,
   "id": "be80e6b6",
   "metadata": {},
   "outputs": [
    {
     "name": "stdout",
     "output_type": "stream",
     "text": [
      "My name is Einsten, my age is 22, and it is True that i am married\n",
      "My name is Einsten, my age is 22, and it is True that i am married\n"
     ]
    }
   ],
   "source": [
    "print(\"My name is %s, my age is %s, and it is %s that i am married\" % (name, age, married))\n",
    "print(\"My name is {}, my age is {}, and it is {} that i am married\".format(name, age, married))"
   ]
  },
  {
   "cell_type": "markdown",
   "id": "ae3f91df",
   "metadata": {},
   "source": [
    "# Numbers"
   ]
  },
  {
   "cell_type": "markdown",
   "id": "4f1f6c58",
   "metadata": {},
   "source": [
    "### Basic Arithmetic"
   ]
  },
  {
   "cell_type": "code",
   "execution_count": 53,
   "id": "ddef97d8",
   "metadata": {},
   "outputs": [
    {
     "name": "stdout",
     "output_type": "stream",
     "text": [
      "3\n",
      "1\n",
      "4\n",
      "1.5\n"
     ]
    }
   ],
   "source": [
    "#Addition\n",
    "print(2+1)\n",
    "\n",
    "#Subraction\n",
    "print(2-1)\n",
    "\n",
    "#Multiplication\n",
    "print(2*2)\n",
    "\n",
    "#Division\n",
    "print(3/2)"
   ]
  },
  {
   "cell_type": "markdown",
   "id": "d7648d5d",
   "metadata": {},
   "source": [
    "### Arithmetic Continued"
   ]
  },
  {
   "cell_type": "code",
   "execution_count": 54,
   "id": "e9aef1a4",
   "metadata": {},
   "outputs": [
    {
     "data": {
      "text/plain": [
       "8"
      ]
     },
     "execution_count": 54,
     "metadata": {},
     "output_type": "execute_result"
    }
   ],
   "source": [
    "#Powers\n",
    "2**3"
   ]
  },
  {
   "cell_type": "code",
   "execution_count": 55,
   "id": "d45ca510",
   "metadata": {},
   "outputs": [
    {
     "data": {
      "text/plain": [
       "105"
      ]
     },
     "execution_count": 55,
     "metadata": {},
     "output_type": "execute_result"
    }
   ],
   "source": [
    "# Order of operations followed in Phyton\n",
    "2 + 10 * 10 + 3"
   ]
  },
  {
   "cell_type": "code",
   "execution_count": 56,
   "id": "38763378",
   "metadata": {},
   "outputs": [
    {
     "data": {
      "text/plain": [
       "156"
      ]
     },
     "execution_count": 56,
     "metadata": {},
     "output_type": "execute_result"
    }
   ],
   "source": [
    "# Can use parenthesis to specify orders\n",
    "(2+10) * (10+3)"
   ]
  },
  {
   "cell_type": "markdown",
   "id": "4e0c3dd5",
   "metadata": {},
   "source": [
    "## Variable Assigments"
   ]
  },
  {
   "cell_type": "code",
   "execution_count": 58,
   "id": "df78a990",
   "metadata": {},
   "outputs": [
    {
     "data": {
      "text/plain": [
       "10"
      ]
     },
     "execution_count": 58,
     "metadata": {},
     "output_type": "execute_result"
    }
   ],
   "source": [
    "#Let's create an object called \"a\" and assign it the number 5\n",
    "a = 5\n",
    "\n",
    "#adding object\n",
    "a+a"
   ]
  },
  {
   "cell_type": "code",
   "execution_count": 59,
   "id": "126b8034",
   "metadata": {},
   "outputs": [
    {
     "data": {
      "text/plain": [
       "10"
      ]
     },
     "execution_count": 59,
     "metadata": {},
     "output_type": "execute_result"
    }
   ],
   "source": [
    "#Reassigment\n",
    "a = 10\n",
    "\n",
    "#check\n",
    "a"
   ]
  }
 ],
 "metadata": {
  "kernelspec": {
   "display_name": "Python 3 (ipykernel)",
   "language": "python",
   "name": "python3"
  },
  "language_info": {
   "codemirror_mode": {
    "name": "ipython",
    "version": 3
   },
   "file_extension": ".py",
   "mimetype": "text/x-python",
   "name": "python",
   "nbconvert_exporter": "python",
   "pygments_lexer": "ipython3",
   "version": "3.9.7"
  }
 },
 "nbformat": 4,
 "nbformat_minor": 5
}
