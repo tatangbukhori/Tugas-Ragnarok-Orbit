{
 "cells": [
  {
   "cell_type": "markdown",
   "id": "a7192e73",
   "metadata": {},
   "source": [
    "# Data Types & Data Structures\n",
    "\n",
    "### Identifying Data Types"
   ]
  },
  {
   "cell_type": "code",
   "execution_count": 34,
   "id": "b53c957b",
   "metadata": {},
   "outputs": [
    {
     "name": "stdout",
     "output_type": "stream",
     "text": [
      "<class 'int'>\n",
      "<class 'float'>\n"
     ]
    }
   ],
   "source": [
    "a = 42\n",
    "b = 32.30\n",
    "\n",
    "print(type(a)) #gets type of a\n",
    "print(type(b)) #gets type of b"
   ]
  },
  {
   "cell_type": "markdown",
   "id": "2ee921a2",
   "metadata": {},
   "source": [
    "## Lists"
   ]
  },
  {
   "cell_type": "code",
   "execution_count": 35,
   "id": "45849017",
   "metadata": {},
   "outputs": [],
   "source": [
    "# Assign a list to an variable named my_list\n",
    "my_list = [1, 2, 3]"
   ]
  },
  {
   "cell_type": "code",
   "execution_count": 36,
   "id": "3c959943",
   "metadata": {},
   "outputs": [],
   "source": [
    "my_list = ['A string', 23, 100.232,'o']"
   ]
  },
  {
   "cell_type": "code",
   "execution_count": 37,
   "id": "59c020f3",
   "metadata": {},
   "outputs": [
    {
     "data": {
      "text/plain": [
       "4"
      ]
     },
     "execution_count": 37,
     "metadata": {},
     "output_type": "execute_result"
    }
   ],
   "source": [
    "len(my_list)"
   ]
  },
  {
   "cell_type": "markdown",
   "id": "be074f66",
   "metadata": {},
   "source": [
    "## Adding New Elements to a list"
   ]
  },
  {
   "cell_type": "code",
   "execution_count": 38,
   "id": "779186cc",
   "metadata": {},
   "outputs": [],
   "source": [
    "my_list = ['one', 'two', 'three', 4,5]"
   ]
  },
  {
   "cell_type": "code",
   "execution_count": 39,
   "id": "aa203644",
   "metadata": {},
   "outputs": [
    {
     "name": "stdout",
     "output_type": "stream",
     "text": [
      "[1, 2.3, ['a', 'b'], 'New York', 3.1]\n"
     ]
    }
   ],
   "source": [
    "#append a value to the end of the list\n",
    "l = [1, 2.3, ['a', 'b'], 'New York']\n",
    "l.append(3.1)\n",
    "print(l)"
   ]
  },
  {
   "cell_type": "code",
   "execution_count": 40,
   "id": "2a31fc11",
   "metadata": {},
   "outputs": [
    {
     "name": "stdout",
     "output_type": "stream",
     "text": [
      "[1, 2, 3, 4, 5, 6]\n"
     ]
    }
   ],
   "source": [
    "#extend a list with another list.\n",
    "l = [1, 2, 3]\n",
    "l.extend([4, 5, 6])\n",
    "print(l)"
   ]
  },
  {
   "cell_type": "markdown",
   "id": "8dd56463",
   "metadata": {},
   "source": [
    "## Slicing"
   ]
  },
  {
   "cell_type": "code",
   "execution_count": 42,
   "id": "c92f9f86",
   "metadata": {},
   "outputs": [
    {
     "name": "stdout",
     "output_type": "stream",
     "text": [
      "[0, 1, 2, 3, 4, 5, 6, 7, 8, 9]\n"
     ]
    }
   ],
   "source": [
    "lst = list(range(10)) # create a list containing 10 numbers starting from 0\n",
    "print(lst)"
   ]
  },
  {
   "cell_type": "code",
   "execution_count": 43,
   "id": "77129c0a",
   "metadata": {},
   "outputs": [
    {
     "name": "stdout",
     "output_type": "stream",
     "text": [
      "elements from index 4 to 7: [4, 5, 6]\n",
      "alternate elements, starting at index 0: [0, 2, 4, 6, 8]\n"
     ]
    }
   ],
   "source": [
    "print(\"elements from index 4 to 7:\", lst[4:7])\n",
    "print(\"alternate elements, starting at index 0:\", lst[0::2])\n",
    "# prints elements from index 0 till last index with a step of 2"
   ]
  },
  {
   "cell_type": "code",
   "execution_count": 44,
   "id": "5d7a40f7",
   "metadata": {},
   "outputs": [
    {
     "name": "stdout",
     "output_type": "stream",
     "text": [
      "every third element, starting at index 1: [1, 4, 7]\n"
     ]
    }
   ],
   "source": [
    "print(\"every third element, starting at index 1:\", lst[1::3])\n",
    "# prints elements from index 1 till last index with a step of 3"
   ]
  },
  {
   "cell_type": "markdown",
   "id": "0178eeaa",
   "metadata": {},
   "source": [
    "## Dictionaries\n",
    "### Constructing a dictionary"
   ]
  },
  {
   "cell_type": "code",
   "execution_count": 45,
   "id": "4e132169",
   "metadata": {},
   "outputs": [
    {
     "data": {
      "text/plain": [
       "'value2'"
      ]
     },
     "execution_count": 45,
     "metadata": {},
     "output_type": "execute_result"
    }
   ],
   "source": [
    "# Make a dictionary with {} and : to signify a key and a value\n",
    "my_dict = {'key1':'value1','key2':'value2'}\n",
    "\n",
    "# Call values by their key\n",
    "my_dict['key2']"
   ]
  },
  {
   "cell_type": "code",
   "execution_count": 46,
   "id": "bc2b09ec",
   "metadata": {},
   "outputs": [
    {
     "data": {
      "text/plain": [
       "{'key1': 123, 'key2': 'value2'}"
      ]
     },
     "execution_count": 46,
     "metadata": {},
     "output_type": "execute_result"
    }
   ],
   "source": [
    "my_dict['key1']=123\n",
    "my_dict"
   ]
  },
  {
   "cell_type": "code",
   "execution_count": 47,
   "id": "885b009c",
   "metadata": {},
   "outputs": [
    {
     "data": {
      "text/plain": [
       "0"
      ]
     },
     "execution_count": 47,
     "metadata": {},
     "output_type": "execute_result"
    }
   ],
   "source": [
    "# Subtract 123 from the value\n",
    "my_dict['key1'] = my_dict['key1'] - 123\n",
    "#Check\n",
    "my_dict['key1']"
   ]
  },
  {
   "cell_type": "code",
   "execution_count": 48,
   "id": "0529693b",
   "metadata": {},
   "outputs": [
    {
     "data": {
      "text/plain": [
       "-123"
      ]
     },
     "execution_count": 48,
     "metadata": {},
     "output_type": "execute_result"
    }
   ],
   "source": [
    "# Set the object equal to itself minus 123\n",
    "my_dict['key1'] -= 123\n",
    "my_dict['key1']"
   ]
  },
  {
   "cell_type": "code",
   "execution_count": 51,
   "id": "93caf1c2",
   "metadata": {},
   "outputs": [
    {
     "data": {
      "text/plain": [
       "{'animal': 'Dog'}"
      ]
     },
     "execution_count": 51,
     "metadata": {},
     "output_type": "execute_result"
    }
   ],
   "source": [
    "# Create a new dictionary\n",
    "d = {}\n",
    "# Create a new key through assignment\n",
    "d['animal'] = 'Dog'\n",
    "\n",
    "d"
   ]
  },
  {
   "cell_type": "markdown",
   "id": "a03cda35",
   "metadata": {},
   "source": [
    "## Set and Booleans\n",
    "### Sets"
   ]
  },
  {
   "cell_type": "code",
   "execution_count": 52,
   "id": "6bd63d71",
   "metadata": {},
   "outputs": [],
   "source": [
    "x = set()"
   ]
  },
  {
   "cell_type": "code",
   "execution_count": 55,
   "id": "fb7c0bc1",
   "metadata": {},
   "outputs": [
    {
     "data": {
      "text/plain": [
       "{1}"
      ]
     },
     "execution_count": 55,
     "metadata": {},
     "output_type": "execute_result"
    }
   ],
   "source": [
    "# We add to sets with the add() method\n",
    "x.add(1)\n",
    "#show\n",
    "x"
   ]
  },
  {
   "cell_type": "code",
   "execution_count": 56,
   "id": "2a7331be",
   "metadata": {},
   "outputs": [
    {
     "data": {
      "text/plain": [
       "{1, 2}"
      ]
     },
     "execution_count": 56,
     "metadata": {},
     "output_type": "execute_result"
    }
   ],
   "source": [
    "# Add a different element\n",
    "x.add(2)\n",
    "#show\n",
    "x"
   ]
  },
  {
   "cell_type": "code",
   "execution_count": 57,
   "id": "d42f838f",
   "metadata": {},
   "outputs": [
    {
     "data": {
      "text/plain": [
       "{1, 2, 3, 4, 5, 6}"
      ]
     },
     "execution_count": 57,
     "metadata": {},
     "output_type": "execute_result"
    }
   ],
   "source": [
    "# Create a list with repeats\n",
    "l = [1,1,2,2,3,4,5,6,1,1]\n",
    "# Cast as set to get unique values\n",
    "set(l)"
   ]
  },
  {
   "cell_type": "code",
   "execution_count": null,
   "id": "29bddf6b",
   "metadata": {},
   "outputs": [],
   "source": []
  }
 ],
 "metadata": {
  "kernelspec": {
   "display_name": "Python 3 (ipykernel)",
   "language": "python",
   "name": "python3"
  },
  "language_info": {
   "codemirror_mode": {
    "name": "ipython",
    "version": 3
   },
   "file_extension": ".py",
   "mimetype": "text/x-python",
   "name": "python",
   "nbconvert_exporter": "python",
   "pygments_lexer": "ipython3",
   "version": "3.9.7"
  }
 },
 "nbformat": 4,
 "nbformat_minor": 5
}
