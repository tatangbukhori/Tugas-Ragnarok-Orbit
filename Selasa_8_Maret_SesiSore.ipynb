{
 "cells": [
  {
   "cell_type": "markdown",
   "id": "f453126c",
   "metadata": {},
   "source": [
    "# Tugas 8 Maret\n",
    "\n",
    "### Hitunglah:\n",
    "\n",
    "    2*A\n",
    "    2+A\n",
    "    A+B\n",
    "    A-B\n",
    "    determinan A\n",
    "    invers dari B, simpan jadi matriks D\n",
    "    transpose D\n",
    "    nilai eigen dan vektor eigen dari A dan B"
   ]
  },
  {
   "cell_type": "code",
   "execution_count": 1,
   "id": "8216e9f2",
   "metadata": {},
   "outputs": [],
   "source": [
    "import numpy as np"
   ]
  },
  {
   "cell_type": "code",
   "execution_count": 8,
   "id": "7a27d368",
   "metadata": {},
   "outputs": [],
   "source": [
    "A = np.array([[1, 2], [7,8]])\n",
    "B = np.array([[3, 5], [1,6]])"
   ]
  },
  {
   "cell_type": "code",
   "execution_count": 9,
   "id": "a5c9831c",
   "metadata": {},
   "outputs": [
    {
     "name": "stdout",
     "output_type": "stream",
     "text": [
      "[[ 2  4]\n",
      " [14 16]] --> 2*A\n",
      "\n",
      "[[ 3  4]\n",
      " [ 9 10]] --> 2+A\n",
      "\n",
      "[[ 4  7]\n",
      " [ 8 14]] --> A+B\n",
      "\n",
      "[[-2 -3]\n",
      " [ 6  2]] --> A-B\n",
      "\n",
      "determinan matriks A = -6.0\n",
      "\n",
      "[[ 0.46153846 -0.38461538]\n",
      " [-0.07692308  0.23076923]] --> Matriks D (invers dari matriks B)\n",
      "\n",
      "[[ 0.46153846 -0.07692308]\n",
      " [-0.38461538  0.23076923]] --> Transpose matriks D\n",
      "\n",
      "[-0.62347538  9.62347538] --> nilai eigen dari matriks A\n",
      "\n",
      "[[-0.77640358 -0.22592838]\n",
      " [ 0.63023605 -0.97414391]] --> vektor eigen dari matriks A\n",
      "\n",
      "[1.8074176 7.1925824] --> nilai eigen dari matriks B\n",
      "\n",
      "[[-0.97271381 -0.76626443]\n",
      " [ 0.23200828 -0.64252535]] --> vektor eigen dari matriks B\n"
     ]
    }
   ],
   "source": [
    "print(2 * A, \"--> 2*A\") # 2*A\n",
    "print(\"\")\n",
    "print(2 + A, \"--> 2+A\") # 2+A\n",
    "print(\"\")\n",
    "print(A + B, \"--> A+B\") # A+B\n",
    "print(\"\")\n",
    "print(A - B, \"--> A-B\") # A-B\n",
    "print(\"\")\n",
    "\n",
    "print('determinan matriks A =', np.linalg.det(A)) # Determinan matriks A\n",
    "print(\"\")\n",
    "\n",
    "D = (np.linalg.inv(B)) # Invers B di simpan menjadi matriks D\n",
    "print(D, \"--> Matriks D (invers dari matriks B)\")\n",
    "print(\"\")\n",
    "\n",
    "tp = np.transpose(D) # Transpose matriks D\n",
    "print(tp, \"--> Transpose matriks D\")\n",
    "print(\"\")\n",
    "\n",
    "# nilai eigen dan vektor eigen dari matriks A dan B\n",
    "print(np.linalg.eig(A)[0], \"--> nilai eigen dari matriks A\") # nilai eigen dari matriks A\n",
    "print(\"\")\n",
    "print(np.linalg.eig(A)[1], \"--> vektor eigen dari matriks A\") # vektor eigen dari matriks A\n",
    "print(\"\")\n",
    "print(np.linalg.eig(B)[0], \"--> nilai eigen dari matriks B\") # nilai eigen dari matriks B\n",
    "print(\"\")\n",
    "print(np.linalg.eig(B)[1], \"--> vektor eigen dari matriks B\") # vektor eigen dari matriks B"
   ]
  },
  {
   "cell_type": "markdown",
   "id": "9b8b61d0",
   "metadata": {},
   "source": [
    "#### perbedaan dari B*D (perkalian antar entry di B dan D) dan BD (perkalian matriks B dan D)"
   ]
  },
  {
   "cell_type": "code",
   "execution_count": 7,
   "id": "2a5f71d5",
   "metadata": {},
   "outputs": [
    {
     "name": "stdout",
     "output_type": "stream",
     "text": [
      "[[ 1.38461538 -1.92307692]\n",
      " [-0.07692308  1.38461538]] --> B*D\n",
      "\n",
      "[[1.00000000e+00 0.00000000e+00]\n",
      " [5.55111512e-17 1.00000000e+00]] --> BD\n"
     ]
    }
   ],
   "source": [
    "print(B * D, \"--> B*D\") # Perkalian antar entry (B*D)\n",
    "print(\"\")\n",
    "print(np.matmul(B,D), \"--> BD\") # Perkalian matriks B dan D (BD)"
   ]
  },
  {
   "cell_type": "markdown",
   "id": "63091c17",
   "metadata": {},
   "source": [
    "    perbedaaanya untuk perkalian antar entry yang dikalikan adalah bilangan di baris 1 matriks B dikalikan dengan bilangan di baris 1 matriks D, bilangan di kolom 2 matriks B dikalikan bilangan di kolom 2 matriks D. Sedangkan perkalian matriks yang dikalikan adalah baris matriks B dengan kolom matrik D dan kolom matriks B dengan baris matrik D."
   ]
  }
 ],
 "metadata": {
  "kernelspec": {
   "display_name": "Python 3 (ipykernel)",
   "language": "python",
   "name": "python3"
  },
  "language_info": {
   "codemirror_mode": {
    "name": "ipython",
    "version": 3
   },
   "file_extension": ".py",
   "mimetype": "text/x-python",
   "name": "python",
   "nbconvert_exporter": "python",
   "pygments_lexer": "ipython3",
   "version": "3.9.7"
  }
 },
 "nbformat": 4,
 "nbformat_minor": 5
}
