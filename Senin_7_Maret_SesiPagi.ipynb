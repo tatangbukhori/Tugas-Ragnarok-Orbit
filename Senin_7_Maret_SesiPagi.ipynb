{
 "cells": [
  {
   "cell_type": "markdown",
   "id": "47b34fcc",
   "metadata": {},
   "source": [
    "# Tugas Sesi Pagi"
   ]
  },
  {
   "cell_type": "markdown",
   "id": "b715ed32",
   "metadata": {},
   "source": [
    "### Membuat 3 OOP beserta turunannya dari objek sekitar"
   ]
  },
  {
   "cell_type": "markdown",
   "id": "6cac9b37",
   "metadata": {},
   "source": [
    "## Encapsulation"
   ]
  },
  {
   "cell_type": "code",
   "execution_count": 35,
   "id": "d5a89b43",
   "metadata": {},
   "outputs": [
    {
     "name": "stdout",
     "output_type": "stream",
     "text": [
      "nama: Jagur, usia: 4, warna: Hitam, jenis: Ayam Jago\n",
      "kukuruyuk....\n"
     ]
    }
   ],
   "source": [
    "nama = \"Jagur\"\n",
    "usia = 4\n",
    "warna = \"Hitam\"\n",
    "jenis = \"Ayam Jago\"\n",
    "\n",
    "def suara():\n",
    "    print(\"kukuruyuk....\")\n",
    "\n",
    "def info_ayam(nama, usia, warna, jenis):\n",
    "    print(f\"nama: {nama}, usia: {usia}, warna: {warna}, jenis: {jenis}\")\n",
    "\n",
    "info_ayam(nama, usia, warna, jenis)\n",
    "suara()"
   ]
  },
  {
   "cell_type": "code",
   "execution_count": 39,
   "id": "3a0dfe06",
   "metadata": {},
   "outputs": [
    {
     "name": "stdout",
     "output_type": "stream",
     "text": [
      "nama : Jagur, usia: 4, warna: Hitam, jenis: Ayam Jago\n",
      "kukuruyuk.... Jagur\n"
     ]
    },
    {
     "data": {
      "text/plain": [
       "'Hitam'"
      ]
     },
     "execution_count": 39,
     "metadata": {},
     "output_type": "execute_result"
    }
   ],
   "source": [
    "class Ayam(object):\n",
    "    \n",
    "    nama_ayam = \"\"\n",
    "    def __init__(ini, input_nama, input_usia, input_warna, input_jenis):\n",
    "        ini.nama = input_nama\n",
    "        ini.usia = input_usia\n",
    "        ini.warna = input_warna\n",
    "        ini.jenis = input_jenis\n",
    "        Ayam.nama_ayam = input_nama\n",
    "    \n",
    "    def suara(ini):\n",
    "        print(\"kukuruyuk....\", ini.nama)\n",
    "    \n",
    "    def info(ini):\n",
    "        print(f\"nama : {ini.nama}, usia: {ini.usia}, warna: {ini.warna}, jenis: {ini.jenis}\")\n",
    "        \n",
    "ayam1 = Ayam(\"Jagur\", 4, \"Hitam\", \"Ayam Jago\")\n",
    "\n",
    "ayam1.info()\n",
    "ayam1.suara()\n",
    "ayam1.warna"
   ]
  },
  {
   "cell_type": "markdown",
   "id": "42518dc0",
   "metadata": {},
   "source": [
    "## Abstraction"
   ]
  },
  {
   "cell_type": "code",
   "execution_count": 40,
   "id": "4d984eb8",
   "metadata": {},
   "outputs": [],
   "source": [
    "from abc import abstractmethod, ABC"
   ]
  },
  {
   "cell_type": "code",
   "execution_count": 49,
   "id": "7a4aa9c0",
   "metadata": {},
   "outputs": [
    {
     "name": "stdout",
     "output_type": "stream",
     "text": [
      "TV berfungsi menampilkan siaran televisi\n",
      "Harga Barang :  2000000\n",
      "Polytron\n",
      "Lemari es berfungsi menyimpan makanan atau minuman dengan suhu dingin\n",
      "Harga Barang :  1500000\n",
      "tv1 adalah instance dari Barang?  True\n",
      "kulkas adalah instance dari Barang?  True\n"
     ]
    }
   ],
   "source": [
    "class Barang(ABC):\n",
    "    def harga(ini, x):\n",
    "        print(\"Harga Barang : \", x)\n",
    "        \n",
    "    #AbstractMethod\n",
    "    @abstractmethod\n",
    "    def task(ini):\n",
    "        pass\n",
    "    \n",
    "class tv(Barang):\n",
    "    def task(ini):\n",
    "        print(\"TV berfungsi menampilkan siaran televisi\")\n",
    "        \n",
    "    def merk(ini):\n",
    "        print(\"Polytron\")\n",
    "        \n",
    "class lemari_es(Barang):\n",
    "    def task(ini):\n",
    "        print(\"Lemari es berfungsi menyimpan makanan atau minuman dengan suhu dingin\")\n",
    "\n",
    "# object of tv created\n",
    "tv1 = tv()\n",
    "tv1.task()\n",
    "tv1.harga(2000000)\n",
    "tv1.merk()\n",
    "#object of lemari_es created\n",
    "kulkas = lemari_es()\n",
    "kulkas.task()\n",
    "kulkas.harga(1500000)\n",
    "\n",
    "print(\"tv1 adalah instance dari Barang? \", isinstance(tv1, Barang))\n",
    "print(\"kulkas adalah instance dari Barang? \", isinstance(kulkas, Barang))"
   ]
  },
  {
   "cell_type": "markdown",
   "id": "2918e11d",
   "metadata": {},
   "source": [
    "## Polymorphism"
   ]
  },
  {
   "cell_type": "code",
   "execution_count": 50,
   "id": "35c9565b",
   "metadata": {},
   "outputs": [
    {
     "name": "stdout",
     "output_type": "stream",
     "text": [
      "nama: Kino, usia: 5, jenis: Omnivora, mamalia: False\n",
      "warna: Kuning, jenis burung: Burung Kicau, nama burung: Burung Kenari\n",
      "ZZzzz... ZZzzz...\n",
      "ZZzzz... ZZzzz...\n",
      "ZZzzz... ZZzzz...\n",
      "nama: Redi, usia: 4, jenis: Herbivora, mamalia: True\n",
      "ZZzzz... ZZzzz...\n",
      "ZZzzz... ZZzzz...\n",
      "ZZzzz... ZZzzz...\n",
      "ZZzzz... ZZzzz...\n",
      "ZZzzz... ZZzzz...\n",
      "Kenyang\n"
     ]
    }
   ],
   "source": [
    "class Binatang(object):\n",
    "    def __init__(ini, nama, usia, jenis, mamalia):\n",
    "        ini.nama = nama\n",
    "        ini.usia = usia\n",
    "        ini.jenis = jenis\n",
    "        ini.mamalia = mamalia\n",
    "    \n",
    "    def tidur(ini, durasi):\n",
    "        for x in range(durasi):\n",
    "            print(\"ZZzzz... ZZzzz...\")\n",
    "            \n",
    "    def info(ini):\n",
    "        print(f\"nama: {ini.nama}, usia: {ini.usia}, jenis: {ini.jenis}, mamalia: {ini.mamalia}\")\n",
    "        \n",
    "class Burung(Binatang):\n",
    "    def __init__(ini, nama, usia, jenis, mamalia, warna, jenis_burung, nama_burung):\n",
    "        super().__init__(nama, usia, jenis, mamalia)\n",
    "        ini.warna = warna\n",
    "        ini.jenis_burung = jenis_burung\n",
    "        ini.nama_burung = nama_burung\n",
    "        \n",
    "    def suara(ini, durasi):\n",
    "        print(\"twit twit... twit twit...\")\n",
    "        \n",
    "    def info_burung(ini):\n",
    "        print(f\"warna: {ini.warna}, jenis burung: {ini.jenis_burung}, nama burung: {ini.nama_burung}\")\n",
    "        \n",
    "class Kelinci(Binatang):\n",
    "    def __init__(ini, nama, usia, jenis, mamalia, warna):\n",
    "        super().__init__(nama, usia, jenis, mamalia)\n",
    "        ini.warna = warna\n",
    "    \n",
    "    def makan_wortel(ini, buah):\n",
    "        if buah >=3 :\n",
    "            print(\"Kenyang\")\n",
    "        else:\n",
    "            print(\"Lapar...\")\n",
    "            \n",
    "burung1 = Burung(\"Kino\", 5, \"Omnivora\", False, \"Kuning\", \"Burung Kicau\", \"Burung Kenari\")\n",
    "\n",
    "burung1.info()\n",
    "burung1.info_burung()\n",
    "burung1.tidur(3)\n",
    "\n",
    "kelinci1 = Kelinci(\"Redi\", 4, \"Herbivora\", True, \"Putih\")\n",
    "\n",
    "kelinci1.info()\n",
    "kelinci1.tidur(5)\n",
    "kelinci1.makan_wortel(3)"
   ]
  }
 ],
 "metadata": {
  "kernelspec": {
   "display_name": "Python 3 (ipykernel)",
   "language": "python",
   "name": "python3"
  },
  "language_info": {
   "codemirror_mode": {
    "name": "ipython",
    "version": 3
   },
   "file_extension": ".py",
   "mimetype": "text/x-python",
   "name": "python",
   "nbconvert_exporter": "python",
   "pygments_lexer": "ipython3",
   "version": "3.9.7"
  }
 },
 "nbformat": 4,
 "nbformat_minor": 5
}
