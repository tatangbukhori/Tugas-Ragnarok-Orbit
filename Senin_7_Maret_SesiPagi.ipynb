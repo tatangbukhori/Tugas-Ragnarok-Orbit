{
 "cells": [
  {
   "cell_type": "markdown",
   "id": "47b34fcc",
   "metadata": {},
   "source": [
    "# Tugas 7 Maret 2022"
   ]
  },
  {
   "cell_type": "markdown",
   "id": "b715ed32",
   "metadata": {},
   "source": [
    "### Membuat 3 OOP beserta turunannya dari objek sekitar"
   ]
  },
  {
   "cell_type": "markdown",
   "id": "6cac9b37",
   "metadata": {},
   "source": [
    "## OOP 1\n",
    "### Encapsulation"
   ]
  },
  {
   "cell_type": "code",
   "execution_count": 35,
   "id": "d5a89b43",
   "metadata": {},
   "outputs": [
    {
     "name": "stdout",
     "output_type": "stream",
     "text": [
      "nama: Jagur, usia: 4, warna: Hitam, jenis: Ayam Jago\n",
      "kukuruyuk....\n"
     ]
    }
   ],
   "source": [
    "nama = \"Jagur\"\n",
    "usia = 4\n",
    "warna = \"Hitam\"\n",
    "jenis = \"Ayam Jago\"\n",
    "\n",
    "def suara():\n",
    "    print(\"kukuruyuk....\")\n",
    "\n",
    "def info_ayam(nama, usia, warna, jenis):\n",
    "    print(f\"nama: {nama}, usia: {usia}, warna: {warna}, jenis: {jenis}\")\n",
    "\n",
    "info_ayam(nama, usia, warna, jenis)\n",
    "suara()"
   ]
  },
  {
   "cell_type": "code",
   "execution_count": 2,
   "id": "3a0dfe06",
   "metadata": {},
   "outputs": [
    {
     "name": "stdout",
     "output_type": "stream",
     "text": [
      "nama : Jagur, usia: 4, warna: Hitam, jenis: Ayam Jago\n",
      "kukuruyuk.... Jagur\n"
     ]
    },
    {
     "data": {
      "text/plain": [
       "'Hitam'"
      ]
     },
     "execution_count": 2,
     "metadata": {},
     "output_type": "execute_result"
    }
   ],
   "source": [
    "class Hewan(object):\n",
    "    \n",
    "    nama_hewan = \"\"\n",
    "    def __init__(ini, input_nama, input_usia, input_warna, input_jenis):\n",
    "        ini.nama = input_nama\n",
    "        ini.usia = input_usia\n",
    "        ini.warna = input_warna\n",
    "        ini.jenis = input_jenis\n",
    "        Hewan.nama_hewan = input_nama\n",
    "    \n",
    "    def suara(ini):\n",
    "        print(\"kukuruyuk....\", ini.nama)\n",
    "    \n",
    "    def info(ini):\n",
    "        print(f\"nama : {ini.nama}, usia: {ini.usia}, warna: {ini.warna}, jenis: {ini.jenis}\")\n",
    "        \n",
    "hewan1 = Hewan(\"Jagur\", 4, \"Hitam\", \"Ayam Jago\")\n",
    "\n",
    "hewan1.info()\n",
    "hewan1.suara()\n",
    "hewan1.warna"
   ]
  },
  {
   "cell_type": "markdown",
   "id": "9d1bcf00",
   "metadata": {},
   "source": [
    "### Abstraction"
   ]
  },
  {
   "cell_type": "code",
   "execution_count": 1,
   "id": "4c700241",
   "metadata": {},
   "outputs": [],
   "source": [
    "from abc import abstractmethod, ABC"
   ]
  },
  {
   "cell_type": "code",
   "execution_count": 3,
   "id": "990716d7",
   "metadata": {},
   "outputs": [
    {
     "name": "stdout",
     "output_type": "stream",
     "text": [
      "Ini adalah ayam\n",
      "Harga Jual Hewan :  500000\n",
      "Ayam jago\n",
      "Ini adalah burung\n",
      "Harga Jual Hewan :  800000\n",
      "hewan1 adalah instance dari Hewan?  True\n",
      "hewan2 adalah instance dari Hewan?  True\n"
     ]
    }
   ],
   "source": [
    "class Hewan(ABC):\n",
    "    def harga(ini, x):\n",
    "        print(\"Harga Jual Hewan : \", x)\n",
    "        \n",
    "    #AbstractMethod\n",
    "    @abstractmethod\n",
    "    def info(ini):\n",
    "        pass\n",
    "    \n",
    "class Ayam(Hewan):\n",
    "    def info(ini):\n",
    "        print(\"Ini adalah ayam\")\n",
    "        \n",
    "    def jenis(ini):\n",
    "        print(\"Ayam jago\")\n",
    "        \n",
    "class Burung(Hewan):\n",
    "    def info(ini):\n",
    "        print(\"Ini adalah burung\")\n",
    "\n",
    "# object of Ayam created\n",
    "hewan1 = Ayam()\n",
    "hewan1.info()\n",
    "hewan1.harga(500000)\n",
    "hewan1.jenis()\n",
    "#object of Burung created\n",
    "hewan2 = Burung()\n",
    "hewan2.info()\n",
    "hewan2.harga(800000)\n",
    "\n",
    "print(\"hewan1 adalah instance dari Hewan? \", isinstance(hewan1, Hewan))\n",
    "print(\"hewan2 adalah instance dari Hewan? \", isinstance(hewan2, Hewan))"
   ]
  },
  {
   "cell_type": "markdown",
   "id": "c8a7941e",
   "metadata": {},
   "source": [
    "### Inheritance"
   ]
  },
  {
   "cell_type": "code",
   "execution_count": 6,
   "id": "c5313312",
   "metadata": {},
   "outputs": [
    {
     "name": "stdout",
     "output_type": "stream",
     "text": [
      "nama: Jagur, usia: 4, jenis: Omnivora, mamalia: False\n",
      "nama: Marko, usia: 5, jenis: Omnivora, mamalia: False\n",
      "warna: Hitam dan Merah, jenis ayam: Ayam Jago\n"
     ]
    }
   ],
   "source": [
    "class Hewan(object):\n",
    "    def __init__(ini, nama, usia, jenis, mamalia):\n",
    "        ini.nama = nama\n",
    "        ini.usia = usia\n",
    "        ini.jenis = jenis\n",
    "        ini.mamalia = mamalia\n",
    "    \n",
    "    def tidur(ini, durasi):\n",
    "        for x in range(durasi):\n",
    "            print(\"ddrrr... ddrrr...\")\n",
    "        \n",
    "    def info(ini):\n",
    "        print(f\"nama: {ini.nama}, usia: {ini.usia}, jenis: {ini.jenis}, mamalia: {ini.mamalia}\")\n",
    "        \n",
    "class Ayam(Hewan):\n",
    "    def __init__(ini, nama, usia, jenis, mamalia, warna, jenis_ayam):\n",
    "        super().__init__(nama, usia, jenis, mamalia)\n",
    "        ini.warna = warna\n",
    "        ini.jenis_ayam = jenis_ayam\n",
    "    \n",
    "    def suara(ini):\n",
    "        super().tidur(2)\n",
    "        print(\"kukuruyuk...\")\n",
    "    \n",
    "    def info_ayam(ini):\n",
    "        super().info()\n",
    "        print(f\"warna: {ini.warna}, jenis ayam: {ini.jenis_ayam}\")\n",
    "\n",
    "hewan1 = Hewan(\"Jagur\", 4, \"Omnivora\", False)\n",
    "hewan1.info()\n",
    "\n",
    "ayam1 = Ayam(\"Marko\", 5, \"Omnivora\", False, \"Hitam dan Merah\", \"Ayam Jago\")\n",
    "ayam1.info_ayam()"
   ]
  },
  {
   "cell_type": "markdown",
   "id": "26890725",
   "metadata": {},
   "source": [
    "### Polymorphism"
   ]
  },
  {
   "cell_type": "code",
   "execution_count": 10,
   "id": "733c1c4f",
   "metadata": {},
   "outputs": [
    {
     "name": "stdout",
     "output_type": "stream",
     "text": [
      "nama: Jagur, usia: 4, jenis: Omnivora, mamalia: False\n",
      "nama: Jagur, usia: 4, jenis: Omnivora, mamalia: False\n",
      "warna: Hitam, jenis ayam: Ayam Jago, jenis hewan: Unggas\n",
      "ddrrr... ddrrr...\n",
      "ddrrr... ddrrr...\n",
      "kukuruyuk...\n",
      "nama: Kino, usia: 6, jenis: Omnivora, mamalia: False\n",
      "ddrrr... ddrrr...\n",
      "ddrrr... ddrrr...\n",
      "ddrrr... ddrrr...\n",
      "ddrrr... ddrrr...\n",
      "Kenyang...\n"
     ]
    }
   ],
   "source": [
    "class Hewan(object):\n",
    "    def __init__(ini, nama, usia, jenis, mamalia):\n",
    "        ini.nama = nama\n",
    "        ini.usia = usia\n",
    "        ini.jenis = jenis\n",
    "        ini.mamalia = mamalia\n",
    "    \n",
    "    def tidur(ini, durasi):\n",
    "        for x in range(durasi):\n",
    "            print(\"ddrrr... ddrrr...\")\n",
    "        \n",
    "    def info(ini):\n",
    "        print(f\"nama: {ini.nama}, usia: {ini.usia}, jenis: {ini.jenis}, mamalia: {ini.mamalia}\")\n",
    "        \n",
    "class Ayam(Hewan):\n",
    "    def __init__(ini, nama, usia, jenis, mamalia, warna, jenis_ayam, jenis_hewan):\n",
    "        super().__init__(nama, usia, jenis, mamalia)\n",
    "        ini.warna = warna\n",
    "        ini.jenis_ayam = jenis_ayam\n",
    "        ini.jenis_hewan = jenis_hewan\n",
    "    \n",
    "    def suara(ini):\n",
    "        super().tidur(2)\n",
    "        print(\"kukuruyuk...\")\n",
    "    \n",
    "    def info_ayam(ini):\n",
    "        super().info()\n",
    "        print(f\"warna: {ini.warna}, jenis ayam: {ini.jenis_ayam}, jenis hewan: {ini.jenis_hewan}\")\n",
    "        \n",
    "class Burung(Hewan):\n",
    "    def __init__(ini, nama, usia, jenis, mamalia, warna):\n",
    "        super().__init__(nama, usia, jenis, mamalia)\n",
    "        ini.warna = warna\n",
    "        \n",
    "    def makan_jagung(ini, sendok_teh):\n",
    "        if sendok_teh >=3 :\n",
    "            print(\"Kenyang...\")\n",
    "        else:\n",
    "            print(\"Lapar...\")\n",
    "            \n",
    "ayam1 = Ayam(\"Jagur\", 4, \"Omnivora\", False, \"Hitam\", \"Ayam Jago\", \"Unggas\")\n",
    "\n",
    "ayam1.info()\n",
    "ayam1.info_ayam()\n",
    "ayam1.suara()\n",
    "\n",
    "burung1 = Burung(\"Kino\", 6, \"Omnivora\", False, \"Kuning\")\n",
    "\n",
    "burung1.info()\n",
    "burung1.tidur(4)\n",
    "burung1.makan_jagung(3)"
   ]
  }
 ],
 "metadata": {
  "kernelspec": {
   "display_name": "Python 3 (ipykernel)",
   "language": "python",
   "name": "python3"
  },
  "language_info": {
   "codemirror_mode": {
    "name": "ipython",
    "version": 3
   },
   "file_extension": ".py",
   "mimetype": "text/x-python",
   "name": "python",
   "nbconvert_exporter": "python",
   "pygments_lexer": "ipython3",
   "version": "3.9.7"
  }
 },
 "nbformat": 4,
 "nbformat_minor": 5
}
